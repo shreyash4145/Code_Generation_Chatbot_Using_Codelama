{
 "cells": [
  {
   "cell_type": "code",
   "execution_count": null,
   "metadata": {
    "vscode": {
     "languageId": "plaintext"
    }
   },
   "outputs": [],
   "source": [
    "# Experiment with CodeLlama for code generation\n",
    "from src.model import CodeLlamaModel\n",
    "\n",
    "# Initialize the model\n",
    "model = CodeLlamaModel()\n",
    "\n",
    "# Test code generation\n",
    "prompt = \"Write a Python function to calculate the factorial of a number.\"\n",
    "generated_code = model.generate_code(prompt)\n",
    "\n",
    "print(\"Generated Code:\")\n",
    "print(generated_code)"
   ]
  }
 ],
 "metadata": {
  "language_info": {
   "name": "python"
  }
 },
 "nbformat": 4,
 "nbformat_minor": 2
}
